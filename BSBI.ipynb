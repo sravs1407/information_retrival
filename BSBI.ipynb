{
  "nbformat": 4,
  "nbformat_minor": 0,
  "metadata": {
    "colab": {
      "provenance": [],
      "authorship_tag": "ABX9TyMHegHeFmFSARqnECQOKfPx",
      "include_colab_link": true
    },
    "kernelspec": {
      "name": "python3",
      "display_name": "Python 3"
    },
    "language_info": {
      "name": "python"
    }
  },
  "cells": [
    {
      "cell_type": "markdown",
      "metadata": {
        "id": "view-in-github",
        "colab_type": "text"
      },
      "source": [
        "<a href=\"https://colab.research.google.com/github/sravs1407/information_retrival/blob/main/BSBI.ipynb\" target=\"_parent\"><img src=\"https://colab.research.google.com/assets/colab-badge.svg\" alt=\"Open In Colab\"/></a>"
      ]
    },
    {
      "cell_type": "code",
      "execution_count": null,
      "metadata": {
        "id": "_GubGR-IFqRc"
      },
      "outputs": [],
      "source": [
        "d1=\"Paragraphs are medium-sized units of writing, longer than sentences, but shorter than sections, chapters, or entire works.\"\n",
        "d2=\"Because they connect the small ideas of individual sentences to a bigger idea, paragraph structure is essential to any writing bigger for organization, flow, and comprehension.\"\n",
        "d3=\"Before we dive into paragraph structure, lets start with paragraph meaning. A paragraph is an individual segment of writing that discusses a central idea, typically with more than one sentence.\"\n",
        "d4=\"The Harvard Business Review coined the term information technology to make a distinction between purpose-built machines designed to perform a limited scope of functions, and general-purpose computing machines that could be programmed for various tasks.\""
      ]
    },
    {
      "cell_type": "code",
      "source": [
        "def rempun(s):\n",
        "  s=str(s)\n",
        "  punc = '''!()-[]{};:'\"\\, <>./?@#$%^&*_~'''\n",
        "  for i in range(len(s)):\n",
        "    if s[i] in punc:\n",
        "      s=s.replace(s[i],\" \")\n",
        "  s=s.lower()\n",
        "  return s\n",
        "d1=rempun(d1)\n",
        "d2=rempun(d2)\n",
        "d3=rempun(d3)\n",
        "d4=rempun(d4)\n",
        "print(d1,\"\\n\",d2,\"\\n\",d3)"
      ],
      "metadata": {
        "colab": {
          "base_uri": "https://localhost:8080/"
        },
        "id": "CgtjwEz6I3TG",
        "outputId": "8ca2605d-2f65-4f38-e29a-93c8eb4cfd0a"
      },
      "execution_count": null,
      "outputs": [
        {
          "output_type": "stream",
          "name": "stdout",
          "text": [
            "paragraphs are medium sized units of writing  longer than sentences  but shorter than sections  chapters  or entire works  \n",
            " because they connect the small ideas of individual sentences to a bigger idea  paragraph structure is essential to any writing bigger for organization  flow  and comprehension  \n",
            " before we dive into paragraph structure  lets start with paragraph meaning  a paragraph is an individual segment of writing that discusses a central idea  typically with more than one sentence \n"
          ]
        }
      ]
    },
    {
      "cell_type": "code",
      "source": [
        "from nltk.tokenize import word_tokenize\n",
        "import nltk\n",
        "from nltk.corpus import stopwords\n",
        "nltk.download('stopwords')\n",
        "nltk.download('punkt')"
      ],
      "metadata": {
        "colab": {
          "base_uri": "https://localhost:8080/"
        },
        "id": "iEeJRNclJVo-",
        "outputId": "d7d899a3-3583-4385-8190-461d1850aade"
      },
      "execution_count": null,
      "outputs": [
        {
          "output_type": "stream",
          "name": "stderr",
          "text": [
            "[nltk_data] Downloading package stopwords to /root/nltk_data...\n",
            "[nltk_data]   Package stopwords is already up-to-date!\n",
            "[nltk_data] Downloading package punkt to /root/nltk_data...\n",
            "[nltk_data]   Package punkt is already up-to-date!\n"
          ]
        },
        {
          "output_type": "execute_result",
          "data": {
            "text/plain": [
              "True"
            ]
          },
          "metadata": {},
          "execution_count": 75
        }
      ]
    },
    {
      "cell_type": "code",
      "source": [
        "def tokenize(a,b,c,d):\n",
        "  token=[]\n",
        "  token.append(word_tokenize(a))\n",
        "  token.append(word_tokenize(b))\n",
        "  token.append(word_tokenize(c))\n",
        "  token.append(word_tokenize(d))\n",
        "  res=[]\n",
        "  for i in token:\n",
        "    for word in i:\n",
        "       if not word in stopwords.words('english') and not word in res:\n",
        "          res.append(word)\n",
        "  res.sort()\n",
        "  return res\n",
        "token=tokenize(d1,d2,d3,d4)\n",
        "print(token)"
      ],
      "metadata": {
        "colab": {
          "base_uri": "https://localhost:8080/"
        },
        "id": "YNd3hH2-JQE-",
        "outputId": "26a506d4-b07d-4fea-c838-7074dfe77097"
      },
      "execution_count": null,
      "outputs": [
        {
          "output_type": "stream",
          "name": "stdout",
          "text": [
            "['bigger', 'built', 'business', 'central', 'chapters', 'coined', 'comprehension', 'computing', 'connect', 'could', 'designed', 'discusses', 'distinction', 'dive', 'entire', 'essential', 'flow', 'functions', 'general', 'harvard', 'idea', 'ideas', 'individual', 'information', 'lets', 'limited', 'longer', 'machines', 'make', 'meaning', 'medium', 'one', 'organization', 'paragraph', 'paragraphs', 'perform', 'programmed', 'purpose', 'review', 'scope', 'sections', 'segment', 'sentence', 'sentences', 'shorter', 'sized', 'small', 'start', 'structure', 'tasks', 'technology', 'term', 'typically', 'units', 'various', 'works', 'writing']\n"
          ]
        }
      ]
    },
    {
      "cell_type": "code",
      "source": [
        "def remdup(t):\n",
        "  l=[]\n",
        "  for i in t:\n",
        "    if i not in l:\n",
        "      l.append(i)\n",
        "  return l\n",
        "token=remdup(token)"
      ],
      "metadata": {
        "id": "uK9mg9NIL7vV"
      },
      "execution_count": null,
      "outputs": []
    },
    {
      "cell_type": "code",
      "source": [
        "block_size=2\n",
        "blocks=[]\n",
        "d=['d1','d2','d3','d4']\n",
        "docs=[d1,d2,d3,d4]\n",
        "def sortdocs(d1,d2):\n",
        "  dic={}\n",
        "  for i in token:\n",
        "    l=[]\n",
        "    if i in d1:\n",
        "      l.append(d[docs.index(d1)])\n",
        "    if i in d2:\n",
        "      l.append(d[docs.index(d2)])\n",
        "    if (l!=[]):\n",
        "      dic[i]=l\n",
        "      list(dic.keys()).sort()\n",
        "  return dic\n",
        "for i in range(0,len(d),2):\n",
        "  blocks.append(sortdocs(docs[i],docs[i+1]))\n",
        "print(blocks)"
      ],
      "metadata": {
        "colab": {
          "base_uri": "https://localhost:8080/"
        },
        "id": "mZPPAR50JZDe",
        "outputId": "8b3753e8-27f3-4955-fa15-1cc05ed9027c"
      },
      "execution_count": null,
      "outputs": [
        {
          "output_type": "stream",
          "name": "stdout",
          "text": [
            "[{'bigger': ['d2'], 'chapters': ['d1'], 'comprehension': ['d2'], 'connect': ['d2'], 'entire': ['d1'], 'essential': ['d2'], 'flow': ['d2'], 'idea': ['d2'], 'ideas': ['d2'], 'individual': ['d2'], 'longer': ['d1'], 'medium': ['d1'], 'organization': ['d2'], 'paragraph': ['d1', 'd2'], 'paragraphs': ['d1'], 'sections': ['d1'], 'sentence': ['d1', 'd2'], 'sentences': ['d1', 'd2'], 'shorter': ['d1'], 'sized': ['d1'], 'small': ['d2'], 'structure': ['d2'], 'units': ['d1'], 'works': ['d1'], 'writing': ['d1', 'd2']}, {'built': ['d4'], 'business': ['d4'], 'central': ['d3'], 'coined': ['d4'], 'computing': ['d4'], 'could': ['d4'], 'designed': ['d4'], 'discusses': ['d3'], 'distinction': ['d4'], 'dive': ['d3'], 'functions': ['d4'], 'general': ['d4'], 'harvard': ['d4'], 'idea': ['d3'], 'individual': ['d3'], 'information': ['d4'], 'lets': ['d3'], 'limited': ['d4'], 'machines': ['d4'], 'make': ['d4'], 'meaning': ['d3'], 'one': ['d3'], 'paragraph': ['d3'], 'perform': ['d4'], 'programmed': ['d4'], 'purpose': ['d4'], 'review': ['d4'], 'scope': ['d4'], 'segment': ['d3'], 'sentence': ['d3'], 'start': ['d3'], 'structure': ['d3'], 'tasks': ['d4'], 'technology': ['d4'], 'term': ['d4'], 'typically': ['d3'], 'various': ['d4'], 'writing': ['d3']}]\n"
          ]
        }
      ]
    },
    {
      "cell_type": "code",
      "source": [
        "def merge(blocks):\n",
        "  merge={}\n",
        "  for i in blocks:\n",
        "    for j in i:\n",
        "      if j not in merge.keys():\n",
        "        merge[j]=i[j]\n",
        "        list(merge.keys()).sort()\n",
        "      else:\n",
        "        merge[j]=merge[j]+i[j]\n",
        "  return merge\n",
        "print(merge(blocks))"
      ],
      "metadata": {
        "colab": {
          "base_uri": "https://localhost:8080/"
        },
        "id": "HWipVQ8BQVgk",
        "outputId": "8e2b41c4-8777-47d9-d602-9e68fd976e3f"
      },
      "execution_count": null,
      "outputs": [
        {
          "output_type": "stream",
          "name": "stdout",
          "text": [
            "{'bigger': ['d2'], 'chapters': ['d1'], 'comprehension': ['d2'], 'connect': ['d2'], 'entire': ['d1'], 'essential': ['d2'], 'flow': ['d2'], 'idea': ['d2', 'd3'], 'ideas': ['d2'], 'individual': ['d2', 'd3'], 'longer': ['d1'], 'medium': ['d1'], 'organization': ['d2'], 'paragraph': ['d1', 'd2', 'd3'], 'paragraphs': ['d1'], 'sections': ['d1'], 'sentence': ['d1', 'd2', 'd3'], 'sentences': ['d1', 'd2'], 'shorter': ['d1'], 'sized': ['d1'], 'small': ['d2'], 'structure': ['d2', 'd3'], 'units': ['d1'], 'works': ['d1'], 'writing': ['d1', 'd2', 'd3'], 'built': ['d4'], 'business': ['d4'], 'central': ['d3'], 'coined': ['d4'], 'computing': ['d4'], 'could': ['d4'], 'designed': ['d4'], 'discusses': ['d3'], 'distinction': ['d4'], 'dive': ['d3'], 'functions': ['d4'], 'general': ['d4'], 'harvard': ['d4'], 'information': ['d4'], 'lets': ['d3'], 'limited': ['d4'], 'machines': ['d4'], 'make': ['d4'], 'meaning': ['d3'], 'one': ['d3'], 'perform': ['d4'], 'programmed': ['d4'], 'purpose': ['d4'], 'review': ['d4'], 'scope': ['d4'], 'segment': ['d3'], 'start': ['d3'], 'tasks': ['d4'], 'technology': ['d4'], 'term': ['d4'], 'typically': ['d3'], 'various': ['d4']}\n"
          ]
        }
      ]
    }
  ]
}