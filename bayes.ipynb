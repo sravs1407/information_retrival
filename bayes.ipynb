{
  "nbformat": 4,
  "nbformat_minor": 0,
  "metadata": {
    "colab": {
      "provenance": [],
      "authorship_tag": "ABX9TyPc25Bwbo2fm/kr9S+zhHCB",
      "include_colab_link": true
    },
    "kernelspec": {
      "name": "python3",
      "display_name": "Python 3"
    },
    "language_info": {
      "name": "python"
    }
  },
  "cells": [
    {
      "cell_type": "markdown",
      "metadata": {
        "id": "view-in-github",
        "colab_type": "text"
      },
      "source": [
        "<a href=\"https://colab.research.google.com/github/sravs1407/information_retrival/blob/main/bayes.ipynb\" target=\"_parent\"><img src=\"https://colab.research.google.com/assets/colab-badge.svg\" alt=\"Open In Colab\"/></a>"
      ]
    },
    {
      "cell_type": "code",
      "execution_count": 8,
      "metadata": {
        "id": "DkJozCS0GDV1"
      },
      "outputs": [],
      "source": [
        "d1=\"Chinese Beijing Chinese\"\n",
        "d2=\"Chinese Chinese Shanghai\"\n",
        "d3=\"Chinese Macao\"\n",
        "d4=\"Tokyo Japan Chinese\"\n",
        "yes=[d1,d2,d3]\n",
        "No=[d4]"
      ]
    },
    {
      "cell_type": "code",
      "source": [
        "def count(s):\n",
        "  l=[]\n",
        "  for i in s:\n",
        "    i=i.split()\n",
        "    for j in i:\n",
        "      if j not in l:\n",
        "        l.append(j)\n",
        "  print(l)\n",
        "  return len(l)\n",
        "b=count([d1,d2,d3,d4])\n",
        "def countclass(s):\n",
        "  l=[]\n",
        "  for i in s:\n",
        "    i=i.split()\n",
        "    for j in i:\n",
        "        l.append(j)\n",
        "  return len(l)\n",
        "tctyes=countclass(yes)\n",
        "tctno=countclass(No)\n",
        "print(b,tctyes,tctno)"
      ],
      "metadata": {
        "colab": {
          "base_uri": "https://localhost:8080/"
        },
        "id": "e4TPPj5nLQol",
        "outputId": "d1396b62-fb67-4b5f-c501-642d408030fa"
      },
      "execution_count": 13,
      "outputs": [
        {
          "output_type": "stream",
          "name": "stdout",
          "text": [
            "['Chinese', 'Beijing', 'Shanghai', 'Macao', 'Tokyo', 'Japan']\n",
            "6 8 3\n"
          ]
        }
      ]
    },
    {
      "cell_type": "code",
      "source": [
        "def wordcount(w,c):\n",
        "  p=0\n",
        "  for i in c:\n",
        "    i=i.split(\" \")\n",
        "    for j in i:\n",
        "      if w==j:\n",
        "        p=p+1\n",
        "  return p"
      ],
      "metadata": {
        "id": "8am6m2xLOY2F"
      },
      "execution_count": 25,
      "outputs": []
    },
    {
      "cell_type": "code",
      "source": [
        "query=input(\"enter query\")\n",
        "def bayesyes(q):\n",
        "  q=q.split(\" \")\n",
        "  p=1.0\n",
        "  for i in q:\n",
        "    p=p*((wordcount(i,yes)+1)/(b+tctyes))\n",
        "  return p\n",
        "def bayesno(q):\n",
        "  q=q.split(\" \")\n",
        "  p=1.0\n",
        "  for i in q:\n",
        "    p=p*((wordcount(i,No)+1)/(b+tctno))\n",
        "  return p\n",
        "s=bayesyes(query)*3/4\n",
        "n=bayesno(query)*1/4\n",
        "if s>n:\n",
        "  print(\"belongs to yes\")\n",
        "else:\n",
        "  print(\"belongs to no\")"
      ],
      "metadata": {
        "colab": {
          "base_uri": "https://localhost:8080/"
        },
        "id": "-XX0xlFkKZfu",
        "outputId": "4e5e079a-8c1d-4a33-f5fa-0be95c7e28c3"
      },
      "execution_count": 33,
      "outputs": [
        {
          "output_type": "stream",
          "name": "stdout",
          "text": [
            "enter queryChinese Chinese Chinese Tokyo Japan\n",
            "belongs to yes\n"
          ]
        }
      ]
    }
  ]
}