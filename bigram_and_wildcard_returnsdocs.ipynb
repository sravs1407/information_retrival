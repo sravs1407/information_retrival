{
  "cells": [
    {
      "cell_type": "markdown",
      "metadata": {
        "id": "view-in-github",
        "colab_type": "text"
      },
      "source": [
        "<a href=\"https://colab.research.google.com/github/sravs1407/information_retrival/blob/main/bigram_and_wildcard_returnsdocs.ipynb\" target=\"_parent\"><img src=\"https://colab.research.google.com/assets/colab-badge.svg\" alt=\"Open In Colab\"/></a>"
      ]
    },
    {
      "cell_type": "code",
      "execution_count": null,
      "metadata": {
        "colab": {
          "background_save": true
        },
        "id": "-bDwKxhgIDo8"
      },
      "outputs": [],
      "source": [
        "d1=\"Paragraphs are medium-sized units of writing, longer than sentences, but shorter than sections, chapters, or entire works.\"\n",
        "d2=\"Because they connect the small ideas of individual sentences to a bigger idea, paragraph structure is essential to any writing bigger for organization, flow, and comprehension.\"\n",
        "d3=\"Before we dive into paragraph structure, lets start with paragraph meaning. A paragraph is an individual segment of writing that discusses a central idea, typically with more than one sentence.\""
      ]
    },
    {
      "cell_type": "code",
      "execution_count": null,
      "metadata": {
        "colab": {
          "base_uri": "https://localhost:8080/"
        },
        "id": "XErGJrxvITDV",
        "outputId": "4273872c-2a9a-4a71-c1d6-5f5b6056b352"
      },
      "outputs": [
        {
          "name": "stdout",
          "output_type": "stream",
          "text": [
            "paragraphs are medium sized units of writing  longer than sentences  but shorter than sections  chapters  or entire works  \n",
            " because they connect the small ideas of individual sentences to a bigger idea  paragraph structure is essential to any writing bigger for organization  flow  and comprehension  \n",
            " before we dive into paragraph structure  lets start with paragraph meaning  a paragraph is an individual segment of writing that discusses a central idea  typically with more than one sentence \n"
          ]
        }
      ],
      "source": [
        "def rempun(s):\n",
        "  s=str(s)\n",
        "  punc = '''!()-[]{};:'\"\\, <>./?@#$%^&*_~'''\n",
        "  for i in range(len(s)):\n",
        "    if s[i] in punc:\n",
        "      s=s.replace(s[i],\" \")\n",
        "  s=s.lower()\n",
        "  return s\n",
        "d1=rempun(d1)\n",
        "d2=rempun(d2)\n",
        "d3=rempun(d3)\n",
        "print(d1,\"\\n\",d2,\"\\n\",d3)"
      ]
    },
    {
      "cell_type": "code",
      "execution_count": null,
      "metadata": {
        "colab": {
          "base_uri": "https://localhost:8080/"
        },
        "id": "hSnHrbQxIxvr",
        "outputId": "b6070514-d52f-459a-cab9-b3b1446afa8c"
      },
      "outputs": [
        {
          "name": "stdout",
          "output_type": "stream",
          "text": [
            "['$p', 'pa', 'ar', 'ra', 'ag', 'gr', 'ra', 'ap', 'ph', 'hs', 's$', '$a', 'ar', 're', 'e$', '$m', 'me', 'ed', 'di', 'iu', 'um', 'm$', '$s', 'si', 'iz', 'ze', 'ed', 'd$', '$u', 'un', 'ni', 'it', 'ts', 's$', '$o', 'of', 'f$', '$w', 'wr', 'ri', 'it', 'ti', 'in', 'ng', 'g$', '$l', 'lo', 'on', 'ng', 'ge', 'er', 'r$', '$t', 'th', 'ha', 'an', 'n$', '$s', 'se', 'en', 'nt', 'te', 'en', 'nc', 'ce', 'es', 's$', '$b', 'bu', 'ut', 't$', '$s', 'sh', 'ho', 'or', 'rt', 'te', 'er', 'r$', '$t', 'th', 'ha', 'an', 'n$', '$s', 'se', 'ec', 'ct', 'ti', 'io', 'on', 'ns', 's$', '$c', 'ch', 'ha', 'ap', 'pt', 'te', 'er', 'rs', 's$', '$o', 'or', 'r$', '$e', 'en', 'nt', 'ti', 'ir', 're', 'e$', '$w', 'wo', 'or', 'rk', 'ks', 's$'] \n",
            " ['$b', 'be', 'ec', 'ca', 'au', 'us', 'se', 'e$', '$t', 'th', 'he', 'ey', 'y$', '$c', 'co', 'on', 'nn', 'ne', 'ec', 'ct', 't$', '$t', 'th', 'he', 'e$', '$s', 'sm', 'ma', 'al', 'll', 'l$', '$i', 'id', 'de', 'ea', 'as', 's$', '$o', 'of', 'f$', '$i', 'in', 'nd', 'di', 'iv', 'vi', 'id', 'du', 'ua', 'al', 'l$', '$s', 'se', 'en', 'nt', 'te', 'en', 'nc', 'ce', 'es', 's$', '$t', 'to', 'o$', 'a', '$b', 'bi', 'ig', 'gg', 'ge', 'er', 'r$', '$i', 'id', 'de', 'ea', 'a$', '$p', 'pa', 'ar', 'ra', 'ag', 'gr', 'ra', 'ap', 'ph', 'h$', '$s', 'st', 'tr', 'ru', 'uc', 'ct', 'tu', 'ur', 're', 'e$', '$i', 'is', 's$', '$e', 'es', 'ss', 'se', 'en', 'nt', 'ti', 'ia', 'al', 'l$', '$t', 'to', 'o$', '$a', 'an', 'ny', 'y$', '$w', 'wr', 'ri', 'it', 'ti', 'in', 'ng', 'g$', '$b', 'bi', 'ig', 'gg', 'ge', 'er', 'r$', '$f', 'fo', 'or', 'r$', '$o', 'or', 'rg', 'ga', 'an', 'ni', 'iz', 'za', 'at', 'ti', 'io', 'on', 'n$', '$f', 'fl', 'lo', 'ow', 'w$', '$a', 'an', 'nd', 'd$', '$c', 'co', 'om', 'mp', 'pr', 're', 'eh', 'he', 'en', 'ns', 'si', 'io', 'on', 'n$'] \n",
            " ['$b', 'be', 'ef', 'fo', 'or', 're', 'e$', '$w', 'we', 'e$', '$d', 'di', 'iv', 've', 'e$', '$i', 'in', 'nt', 'to', 'o$', '$p', 'pa', 'ar', 'ra', 'ag', 'gr', 'ra', 'ap', 'ph', 'h$', '$s', 'st', 'tr', 'ru', 'uc', 'ct', 'tu', 'ur', 're', 'e$', '$l', 'le', 'et', 'ts', 's$', '$s', 'st', 'ta', 'ar', 'rt', 't$', '$w', 'wi', 'it', 'th', 'h$', '$p', 'pa', 'ar', 'ra', 'ag', 'gr', 'ra', 'ap', 'ph', 'h$', '$m', 'me', 'ea', 'an', 'ni', 'in', 'ng', 'g$', 'a', '$p', 'pa', 'ar', 'ra', 'ag', 'gr', 'ra', 'ap', 'ph', 'h$', '$i', 'is', 's$', '$a', 'an', 'n$', '$i', 'in', 'nd', 'di', 'iv', 'vi', 'id', 'du', 'ua', 'al', 'l$', '$s', 'se', 'eg', 'gm', 'me', 'en', 'nt', 't$', '$o', 'of', 'f$', '$w', 'wr', 'ri', 'it', 'ti', 'in', 'ng', 'g$', '$t', 'th', 'ha', 'at', 't$', '$d', 'di', 'is', 'sc', 'cu', 'us', 'ss', 'se', 'es', 's$', 'a', '$c', 'ce', 'en', 'nt', 'tr', 'ra', 'al', 'l$', '$i', 'id', 'de', 'ea', 'a$', '$t', 'ty', 'yp', 'pi', 'ic', 'ca', 'al', 'll', 'ly', 'y$', '$w', 'wi', 'it', 'th', 'h$', '$m', 'mo', 'or', 're', 'e$', '$t', 'th', 'ha', 'an', 'n$', '$o', 'on', 'ne', 'e$', '$s', 'se', 'en', 'nt', 'te', 'en', 'nc', 'ce', 'e$']\n"
          ]
        }
      ],
      "source": [
        "def split(d):\n",
        "  l1=d.split()\n",
        "  res=[]\n",
        "  for i in l1:\n",
        "    if len(i)==1:\n",
        "      res.append(i)\n",
        "    else:\n",
        "      res.append('$'+i[0])\n",
        "      for j in range(0,len(i)-1):\n",
        "        res.append(i[j:j+2])\n",
        "      res.append(i[len(i)-1]+'$')\n",
        "  return res\n",
        "b1=split(d1)\n",
        "b2=split(d2)\n",
        "b3=split(d3)\n",
        "print(b1,\"\\n\",b2,\"\\n\",b3)"
      ]
    },
    {
      "cell_type": "code",
      "execution_count": null,
      "metadata": {
        "colab": {
          "base_uri": "https://localhost:8080/"
        },
        "id": "nLvq40iqMhEj",
        "outputId": "9a0079f0-4fb3-4bb1-ef90-cedd5bcbaa32"
      },
      "outputs": [
        {
          "data": {
            "text/plain": [
              "{'$p': ['d1', 'd2', 'd3'],\n",
              " 'pa': ['d1', 'd2', 'd3'],\n",
              " 'ar': ['d1', 'd2', 'd3'],\n",
              " 'ra': ['d1', 'd2', 'd3'],\n",
              " 'ag': ['d1', 'd2', 'd3'],\n",
              " 'gr': ['d1', 'd2', 'd3'],\n",
              " 'ap': ['d1', 'd2', 'd3'],\n",
              " 'ph': ['d1', 'd2', 'd3'],\n",
              " 'hs': ['d1'],\n",
              " 's$': ['d1', 'd2', 'd3'],\n",
              " '$a': ['d1', 'd2', 'd3'],\n",
              " 're': ['d1', 'd2', 'd3'],\n",
              " 'e$': ['d1', 'd2', 'd3'],\n",
              " '$m': ['d1', 'd3'],\n",
              " 'me': ['d1', 'd3'],\n",
              " 'ed': ['d1'],\n",
              " 'di': ['d1', 'd2', 'd3'],\n",
              " 'iu': ['d1'],\n",
              " 'um': ['d1'],\n",
              " 'm$': ['d1'],\n",
              " '$s': ['d1', 'd2', 'd3'],\n",
              " 'si': ['d1', 'd2'],\n",
              " 'iz': ['d1', 'd2'],\n",
              " 'ze': ['d1'],\n",
              " 'd$': ['d1', 'd2'],\n",
              " '$u': ['d1'],\n",
              " 'un': ['d1'],\n",
              " 'ni': ['d1', 'd2', 'd3'],\n",
              " 'it': ['d1', 'd2', 'd3'],\n",
              " 'ts': ['d1', 'd3'],\n",
              " '$o': ['d1', 'd2', 'd3'],\n",
              " 'of': ['d1', 'd2', 'd3'],\n",
              " 'f$': ['d1', 'd2', 'd3'],\n",
              " '$w': ['d1', 'd2', 'd3'],\n",
              " 'wr': ['d1', 'd2', 'd3'],\n",
              " 'ri': ['d1', 'd2', 'd3'],\n",
              " 'ti': ['d1', 'd2', 'd3'],\n",
              " 'in': ['d1', 'd2', 'd3'],\n",
              " 'ng': ['d1', 'd2', 'd3'],\n",
              " 'g$': ['d1', 'd2', 'd3'],\n",
              " '$l': ['d1', 'd3'],\n",
              " 'lo': ['d1', 'd2'],\n",
              " 'on': ['d1', 'd2', 'd3'],\n",
              " 'ge': ['d1', 'd2'],\n",
              " 'er': ['d1', 'd2'],\n",
              " 'r$': ['d1', 'd2'],\n",
              " '$t': ['d1', 'd2', 'd3'],\n",
              " 'th': ['d1', 'd2', 'd3'],\n",
              " 'ha': ['d1', 'd3'],\n",
              " 'an': ['d1', 'd2', 'd3'],\n",
              " 'n$': ['d1', 'd2', 'd3'],\n",
              " 'se': ['d1', 'd2', 'd3'],\n",
              " 'en': ['d1', 'd2', 'd3'],\n",
              " 'nt': ['d1', 'd2', 'd3'],\n",
              " 'te': ['d1', 'd2', 'd3'],\n",
              " 'nc': ['d1', 'd2', 'd3'],\n",
              " 'ce': ['d1', 'd2', 'd3'],\n",
              " 'es': ['d1', 'd2', 'd3'],\n",
              " '$b': ['d1', 'd2', 'd3'],\n",
              " 'bu': ['d1'],\n",
              " 'ut': ['d1'],\n",
              " 't$': ['d1', 'd2', 'd3'],\n",
              " 'sh': ['d1'],\n",
              " 'ho': ['d1'],\n",
              " 'or': ['d1', 'd2', 'd3'],\n",
              " 'rt': ['d1', 'd3'],\n",
              " 'ec': ['d1', 'd2'],\n",
              " 'ct': ['d1', 'd2', 'd3'],\n",
              " 'io': ['d1', 'd2'],\n",
              " 'ns': ['d1', 'd2'],\n",
              " '$c': ['d1', 'd2', 'd3'],\n",
              " 'ch': ['d1'],\n",
              " 'pt': ['d1'],\n",
              " 'rs': ['d1'],\n",
              " '$e': ['d1', 'd2'],\n",
              " 'ir': ['d1'],\n",
              " 'wo': ['d1'],\n",
              " 'rk': ['d1'],\n",
              " 'ks': ['d1'],\n",
              " 'be': ['d2', 'd3'],\n",
              " 'ca': ['d2', 'd3'],\n",
              " 'au': ['d2'],\n",
              " 'us': ['d2', 'd3'],\n",
              " 'he': ['d2'],\n",
              " 'ey': ['d2'],\n",
              " 'y$': ['d2', 'd3'],\n",
              " 'co': ['d2'],\n",
              " 'nn': ['d2'],\n",
              " 'ne': ['d2', 'd3'],\n",
              " 'sm': ['d2'],\n",
              " 'ma': ['d2'],\n",
              " 'al': ['d2', 'd3'],\n",
              " 'll': ['d2', 'd3'],\n",
              " 'l$': ['d2', 'd3'],\n",
              " '$i': ['d2', 'd3'],\n",
              " 'id': ['d2', 'd3'],\n",
              " 'de': ['d2', 'd3'],\n",
              " 'ea': ['d2', 'd3'],\n",
              " 'as': ['d2'],\n",
              " 'nd': ['d2', 'd3'],\n",
              " 'iv': ['d2', 'd3'],\n",
              " 'vi': ['d2', 'd3'],\n",
              " 'du': ['d2', 'd3'],\n",
              " 'ua': ['d2', 'd3'],\n",
              " 'to': ['d2', 'd3'],\n",
              " 'o$': ['d2', 'd3'],\n",
              " 'a': ['d2', 'd3'],\n",
              " 'bi': ['d2'],\n",
              " 'ig': ['d2'],\n",
              " 'gg': ['d2'],\n",
              " 'a$': ['d2', 'd3'],\n",
              " 'h$': ['d2', 'd3'],\n",
              " 'st': ['d2', 'd3'],\n",
              " 'tr': ['d2', 'd3'],\n",
              " 'ru': ['d2', 'd3'],\n",
              " 'uc': ['d2', 'd3'],\n",
              " 'tu': ['d2', 'd3'],\n",
              " 'ur': ['d2', 'd3'],\n",
              " 'is': ['d2', 'd3'],\n",
              " 'ss': ['d2', 'd3'],\n",
              " 'ia': ['d2'],\n",
              " 'ny': ['d2'],\n",
              " '$f': ['d2'],\n",
              " 'fo': ['d2', 'd3'],\n",
              " 'rg': ['d2'],\n",
              " 'ga': ['d2'],\n",
              " 'za': ['d2'],\n",
              " 'at': ['d2', 'd3'],\n",
              " 'fl': ['d2'],\n",
              " 'ow': ['d2'],\n",
              " 'w$': ['d2'],\n",
              " 'om': ['d2'],\n",
              " 'mp': ['d2'],\n",
              " 'pr': ['d2'],\n",
              " 'eh': ['d2'],\n",
              " 'ef': ['d3'],\n",
              " 'we': ['d3'],\n",
              " '$d': ['d3'],\n",
              " 've': ['d3'],\n",
              " 'le': ['d3'],\n",
              " 'et': ['d3'],\n",
              " 'ta': ['d3'],\n",
              " 'wi': ['d3'],\n",
              " 'eg': ['d3'],\n",
              " 'gm': ['d3'],\n",
              " 'sc': ['d3'],\n",
              " 'cu': ['d3'],\n",
              " 'ty': ['d3'],\n",
              " 'yp': ['d3'],\n",
              " 'pi': ['d3'],\n",
              " 'ic': ['d3'],\n",
              " 'ly': ['d3'],\n",
              " 'mo': ['d3']}"
            ]
          },
          "execution_count": 4,
          "metadata": {},
          "output_type": "execute_result"
        }
      ],
      "source": [
        "def index(d1,d2,d3):\n",
        "  d=[d1,d2,d3]\n",
        "  nonpos={}\n",
        "  for doc in d:\n",
        "    for i in doc:\n",
        "      l=[]\n",
        "      if i in d1:\n",
        "        l.append('d1')\n",
        "      if i in d2:\n",
        "        l.append('d2')\n",
        "      if i in d3:\n",
        "        l.append('d3')\n",
        "      nonpos[i]=l\n",
        "  return nonpos\n",
        "ind=index(b1,b2,b3)\n",
        "ind"
      ]
    },
    {
      "cell_type": "code",
      "execution_count": null,
      "metadata": {
        "id": "pagH0ZooTxDu"
      },
      "outputs": [],
      "source": [
        "def wildcard(p):\n",
        "  postings=[]\n",
        "  for i in range(len(p)):\n",
        "     postings.append(p[i])\n",
        "  print(postings)"
      ]
    },
    {
      "cell_type": "code",
      "execution_count": null,
      "metadata": {
        "colab": {
          "background_save": true,
          "base_uri": "https://localhost:8080/",
          "height": 361
        },
        "id": "FQvJbA0nOaF6",
        "outputId": "cf019237-2e1a-4dda-9442-53ec60dd6154"
      },
      "outputs": [
        {
          "name": "stdout",
          "output_type": "stream",
          "text": [
            "['co', 'on', 'n$']\n",
            "['d2']\n"
          ]
        }
      ],
      "source": [
        "query=input(\"enter query\")\n",
        "p=[]\n",
        "if query[0]=='*':\n",
        "  for i in range(1,len(query)-1):\n",
        "    p.append(query[i]+query[i+1])\n",
        "  p.append(query[len(query)-1]+'$')\n",
        "elif query[len(query)-1]=='*':\n",
        "  p.append('$'+query[0])\n",
        "  for i in range(0,len(query)-2):\n",
        "    p.append(query[i]+query[i+1])\n",
        "else:\n",
        "  for i in range(0,len(query)-1):\n",
        "    p.append(query[i]+query[i+1])\n",
        "print(p)\n",
        "def intersect(l1,l2):\n",
        "  l=[]\n",
        "  for i in l1:\n",
        "    if i in l2:\n",
        "      l.append(i)\n",
        "  return l\n",
        "def wildcard(p):\n",
        "  postings=[]\n",
        "  res=[]\n",
        "  for i in range(len(p)):\n",
        "     postings.append(ind[p[i]])\n",
        "  for i in postings:\n",
        "    postings.append(ind[p[i]])\n",
        "  res=intersect(postings[0],postings[1],postings[2])\n",
        "  return res\n",
        "res=wildcard(p)\n",
        "print(res)"
      ]
    },
    {
      "cell_type": "code",
      "execution_count": null,
      "metadata": {
        "id": "3tTmgkljSk3W"
      },
      "outputs": [],
      "source": [
        "\n"
      ]
    }
  ],
  "metadata": {
    "colab": {
      "provenance": [],
      "authorship_tag": "ABX9TyOzkeqnS51Qd4/Y7RHdCSNo",
      "include_colab_link": true
    },
    "kernelspec": {
      "display_name": "Python 3",
      "name": "python3"
    },
    "language_info": {
      "name": "python"
    }
  },
  "nbformat": 4,
  "nbformat_minor": 0
}