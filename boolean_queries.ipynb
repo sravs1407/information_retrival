{
  "nbformat": 4,
  "nbformat_minor": 0,
  "metadata": {
    "colab": {
      "provenance": [],
      "authorship_tag": "ABX9TyPnfcZbkSdifWiw9VLl+plj",
      "include_colab_link": true
    },
    "kernelspec": {
      "name": "python3",
      "display_name": "Python 3"
    },
    "language_info": {
      "name": "python"
    }
  },
  "cells": [
    {
      "cell_type": "markdown",
      "metadata": {
        "id": "view-in-github",
        "colab_type": "text"
      },
      "source": [
        "<a href=\"https://colab.research.google.com/github/sravs1407/information_retrival/blob/main/boolean_queries.ipynb\" target=\"_parent\"><img src=\"https://colab.research.google.com/assets/colab-badge.svg\" alt=\"Open In Colab\"/></a>"
      ]
    },
    {
      "cell_type": "code",
      "execution_count": 16,
      "metadata": {
        "colab": {
          "base_uri": "https://localhost:8080/"
        },
        "id": "oS5-qb2y7nm2",
        "outputId": "c8a51174-fbbf-442f-ccb1-a94a75b30954"
      },
      "outputs": [
        {
          "output_type": "stream",
          "name": "stdout",
          "text": [
            "1 1 1\n"
          ]
        }
      ],
      "source": [
        "d1=\"Paragraphs are medium-sized units of writing, longer than sentences, but shorter than sections, chapters, or entire works.\"\n",
        "d2=\"Because they connect the small ideas of individual sentences to a bigger idea, paragraph structure is essential to any writing bigger for organization, flow, and comprehension.\"\n",
        "d3=\"Before we dive into paragraph structure, lets start with paragraph meaning. A paragraph is an individual segment of writing that discusses a central idea, typically with more than one sentence.\"\n",
        "#counting number of lines\n",
        "def count(s):\n",
        "  line=1\n",
        "  for i in s:\n",
        "    if i=='\\n':\n",
        "      line+=1\n",
        "  return line\n",
        "c1=count(d1)\n",
        "c2=count(d2)\n",
        "c3=count(d3)\n",
        "print(c1,c2,c3)"
      ]
    },
    {
      "cell_type": "code",
      "source": [
        "def rempun(s):\n",
        "  s=str(s)\n",
        "  punc = '''!()-[]{};:'\"\\, <>./?@#$%^&*_~'''\n",
        "  for i in range(len(s)):\n",
        "    if s[i] in punc:\n",
        "      s=s.replace(s[i],\" \")\n",
        "  s=s.lower()\n",
        "  return s\n",
        "d1=rempun(d1)\n",
        "d2=rempun(d2)\n",
        "d3=rempun(d3)\n",
        "print(d1,\"\\n\",d2,\"\\n\",d3)"
      ],
      "metadata": {
        "colab": {
          "base_uri": "https://localhost:8080/"
        },
        "id": "CvGiwkSD772F",
        "outputId": "32e98304-6d9a-4bc2-ba51-5847f503f814"
      },
      "execution_count": 17,
      "outputs": [
        {
          "output_type": "stream",
          "name": "stdout",
          "text": [
            "paragraphs are medium sized units of writing  longer than sentences  but shorter than sections  chapters  or entire works  \n",
            " because they connect the small ideas of individual sentences to a bigger idea  paragraph structure is essential to any writing bigger for organization  flow  and comprehension  \n",
            " before we dive into paragraph structure  lets start with paragraph meaning  a paragraph is an individual segment of writing that discusses a central idea  typically with more than one sentence \n"
          ]
        }
      ]
    },
    {
      "cell_type": "code",
      "source": [
        "from nltk.tokenize import word_tokenize\n",
        "import nltk\n",
        "from nltk.corpus import stopwords\n",
        "nltk.download('stopwords')\n",
        "nltk.download('punkt')"
      ],
      "metadata": {
        "colab": {
          "base_uri": "https://localhost:8080/"
        },
        "id": "YfnUBoAB8CG0",
        "outputId": "78ccf53d-efc9-40d0-c9b8-1029541258cf"
      },
      "execution_count": 18,
      "outputs": [
        {
          "output_type": "stream",
          "name": "stderr",
          "text": [
            "[nltk_data] Downloading package stopwords to /root/nltk_data...\n",
            "[nltk_data]   Package stopwords is already up-to-date!\n",
            "[nltk_data] Downloading package punkt to /root/nltk_data...\n",
            "[nltk_data]   Package punkt is already up-to-date!\n"
          ]
        },
        {
          "output_type": "execute_result",
          "data": {
            "text/plain": [
              "True"
            ]
          },
          "metadata": {},
          "execution_count": 18
        }
      ]
    },
    {
      "cell_type": "code",
      "source": [
        "def tokenize(a,b,c):\n",
        "  token=[]\n",
        "  token.append(word_tokenize(a))\n",
        "  token.append(word_tokenize(b))\n",
        "  token.append(word_tokenize(c))\n",
        "  res=[]\n",
        "  for i in token:\n",
        "    for word in i:\n",
        "       if not word in stopwords.words('english') and not word in res:\n",
        "          res.append(word)\n",
        "  res.sort()\n",
        "  return res\n",
        "token=tokenize(d1,d2,d3)\n",
        "print(token)"
      ],
      "metadata": {
        "colab": {
          "base_uri": "https://localhost:8080/"
        },
        "id": "hySAuwQkRdIw",
        "outputId": "1a05510c-a420-4b04-a775-61c605026e50"
      },
      "execution_count": 19,
      "outputs": [
        {
          "output_type": "stream",
          "name": "stdout",
          "text": [
            "['bigger', 'central', 'chapters', 'comprehension', 'connect', 'discusses', 'dive', 'entire', 'essential', 'flow', 'idea', 'ideas', 'individual', 'lets', 'longer', 'meaning', 'medium', 'one', 'organization', 'paragraph', 'paragraphs', 'sections', 'segment', 'sentence', 'sentences', 'shorter', 'sized', 'small', 'start', 'structure', 'typically', 'units', 'works', 'writing']\n"
          ]
        }
      ]
    },
    {
      "cell_type": "code",
      "source": [
        "#non-positional indices\n",
        "def npos(s,a,b,c):\n",
        "  nonpos={}\n",
        "  for i in s:\n",
        "     l=[]\n",
        "     if i in a:\n",
        "       l.append('d1')\n",
        "     if i in b:\n",
        "       l.append('d2')\n",
        "     if i in c:\n",
        "       l.append('d3')\n",
        "     nonpos[i]=l\n",
        "  return nonpos\n",
        "nonpos=npos(token,d1,d2,d3)\n",
        "print(nonpos)"
      ],
      "metadata": {
        "colab": {
          "base_uri": "https://localhost:8080/"
        },
        "id": "QajQOpspbdxk",
        "outputId": "cafa900a-9460-458a-d2d1-cabc7ceb06a4"
      },
      "execution_count": 20,
      "outputs": [
        {
          "output_type": "stream",
          "name": "stdout",
          "text": [
            "{'bigger': ['d2'], 'central': ['d3'], 'chapters': ['d1'], 'comprehension': ['d2'], 'connect': ['d2'], 'discusses': ['d3'], 'dive': ['d3'], 'entire': ['d1'], 'essential': ['d2'], 'flow': ['d2'], 'idea': ['d2', 'd3'], 'ideas': ['d2'], 'individual': ['d2', 'd3'], 'lets': ['d3'], 'longer': ['d1'], 'meaning': ['d3'], 'medium': ['d1'], 'one': ['d3'], 'organization': ['d2'], 'paragraph': ['d1', 'd2', 'd3'], 'paragraphs': ['d1'], 'sections': ['d1'], 'segment': ['d3'], 'sentence': ['d1', 'd2', 'd3'], 'sentences': ['d1', 'd2'], 'shorter': ['d1'], 'sized': ['d1'], 'small': ['d2'], 'start': ['d3'], 'structure': ['d2', 'd3'], 'typically': ['d3'], 'units': ['d1'], 'works': ['d1'], 'writing': ['d1', 'd2', 'd3']}\n"
          ]
        }
      ]
    },
    {
      "cell_type": "code",
      "source": [
        "def precedence(q1):\n",
        "  if q1==\"not\":\n",
        "    return 3\n",
        "  elif q1==\"and\":\n",
        "    return 2\n",
        "  elif q1==\"or\":\n",
        "    return 1"
      ],
      "metadata": {
        "id": "-dUAz-EiS8AF"
      },
      "execution_count": 21,
      "outputs": []
    },
    {
      "cell_type": "code",
      "source": [
        "def posting(s):\n",
        "  print(s)\n",
        "  return nonpos[s]\n",
        "def intersection(p1,p2):\n",
        "  res=[]\n",
        "  for i in p1:\n",
        "    if i in p2:\n",
        "      res.append(i)\n",
        "  return res\n",
        "def union(p1,p2):\n",
        "  res=[]\n",
        "  for i in p1:\n",
        "    if i not in res:\n",
        "      res.append(i)\n",
        "  for i in p2:\n",
        "    if i not in res:\n",
        "      res.append(i)\n",
        "  return res\n",
        "def negation(p):\n",
        "  res=[]\n",
        "  total=['d1','d2','d3']\n",
        "  for i in total:\n",
        "    if i not in p:\n",
        "      res.append(i)\n",
        "  return res"
      ],
      "metadata": {
        "id": "0Fs9763MaN15"
      },
      "execution_count": 35,
      "outputs": []
    },
    {
      "cell_type": "code",
      "source": [
        "query=input(\"enter query:\")\n",
        "oper=['or','and','not']\n",
        "def infixtopostfix(query):\n",
        "  query=query.split()\n",
        "  stack=[]\n",
        "  queue=[]\n",
        "  for i in range(len(query)):\n",
        "    if query[i] in oper:\n",
        "      if stack==[]:\n",
        "         stack.append(query[i])\n",
        "      elif precedence(query[i])>precedence(stack[len(stack)-1]):\n",
        "        stack.append(query[i])\n",
        "      else:\n",
        "        queue.append(stack[len(stack)-1])\n",
        "        stack.pop()\n",
        "        stack.append(query[i])\n",
        "    else:\n",
        "      queue.append(query[i])\n",
        "  if stack!=[]:\n",
        "    while stack!=[]:\n",
        "      queue.append(stack.pop())\n",
        "  return queue;\n",
        "inftopos=infixtopostfix(query)\n",
        "print(inftopos)\n",
        "def res(lis):\n",
        "  stack=[]\n",
        "  for i in lis:\n",
        "    if i not in oper:\n",
        "      stack.append(i)\n",
        "    else:\n",
        "      if(i=='not'):\n",
        "        first=stack.pop()\n",
        "        if(type(first)==list):\n",
        "          stack.append(negation(first))\n",
        "        else:\n",
        "          stack.append(negation(posting(first)))\n",
        "      elif(i=='and'):\n",
        "        first=stack.pop()\n",
        "        second=stack.pop()\n",
        "        if(type(first)==list and type(second)==list):\n",
        "          stack.append(intersection(pos1,pos2))\n",
        "        elif(type(first)==list):\n",
        "          stack.append(intersection(first,posting(second)))\n",
        "        elif(type(second)==list):\n",
        "          stack.append(intersection(posting(first),second))\n",
        "        else:\n",
        "          pos1=posting(first)\n",
        "          pos2=posting(second)\n",
        "          stack.append(intersection(pos1,pos2))\n",
        "      elif(i=='or'):\n",
        "        first=stack.pop()\n",
        "        second=stack.pop()\n",
        "        if(type(first)==list and type(second)==list):\n",
        "          stack.append(union(pos1,pos2))\n",
        "        elif(type(first)==list):\n",
        "          stack.append(union(first,posting(second)))\n",
        "        elif(type(second)==list):\n",
        "          stack.append(union(posting(first),second))\n",
        "        else:\n",
        "          stack.append(union(posting(first),posting(second)))\n",
        "  return stack[0]\n",
        "ans=res(inftopos)\n",
        "ans"
      ],
      "metadata": {
        "colab": {
          "base_uri": "https://localhost:8080/"
        },
        "id": "fs15L0FMSM0-",
        "outputId": "da68a497-1f81-45ae-cac7-622123f4fa2a"
      },
      "execution_count": 40,
      "outputs": [
        {
          "output_type": "stream",
          "name": "stdout",
          "text": [
            "enter query:shorter and longer or small and not bigger\n",
            "['shorter', 'longer', 'and', 'small', 'bigger', 'not', 'and', 'or']\n",
            "longer\n",
            "shorter\n",
            "bigger\n",
            "small\n"
          ]
        },
        {
          "output_type": "execute_result",
          "data": {
            "text/plain": [
              "['d1']"
            ]
          },
          "metadata": {},
          "execution_count": 40
        }
      ]
    }
  ]
}