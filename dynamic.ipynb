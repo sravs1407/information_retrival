{
  "nbformat": 4,
  "nbformat_minor": 0,
  "metadata": {
    "colab": {
      "provenance": [],
      "authorship_tag": "ABX9TyPI0jrsVPvjLfLAwgjd3Otj",
      "include_colab_link": true
    },
    "kernelspec": {
      "name": "python3",
      "display_name": "Python 3"
    },
    "language_info": {
      "name": "python"
    }
  },
  "cells": [
    {
      "cell_type": "markdown",
      "metadata": {
        "id": "view-in-github",
        "colab_type": "text"
      },
      "source": [
        "<a href=\"https://colab.research.google.com/github/sravs1407/information_retrival/blob/main/dynamic.ipynb\" target=\"_parent\"><img src=\"https://colab.research.google.com/assets/colab-badge.svg\" alt=\"Open In Colab\"/></a>"
      ]
    },
    {
      "cell_type": "code",
      "execution_count": 1,
      "metadata": {
        "colab": {
          "base_uri": "https://localhost:8080/"
        },
        "id": "OauBCoE0ONoo",
        "outputId": "5062f163-5192-4c52-bcba-3303caacbf99"
      },
      "outputs": [
        {
          "output_type": "stream",
          "name": "stdout",
          "text": [
            "1 1 1\n"
          ]
        }
      ],
      "source": [
        "d1=\"Paragraphs are medium-sized units of writing, longer than sentences, but shorter than sections, chapters, or entire works.\"\n",
        "d2=\"Because they connect the small ideas of individual sentences to a bigger idea, paragraph structure is essential to any writing bigger for organization, flow, and comprehension.\"\n",
        "d3=\"Before we dive into paragraph structure, lets start with paragraph meaning. A paragraph is an individual segment of writing that discusses a central idea, typically with more than one sentence.\"\n",
        "#counting number of lines\n",
        "def count(s):\n",
        "  line=1\n",
        "  for i in s:\n",
        "    if i=='\\n':\n",
        "      line+=1\n",
        "  return line\n",
        "c1=count(d1)\n",
        "c2=count(d2)\n",
        "c3=count(d3)\n",
        "print(c1,c2,c3)"
      ]
    },
    {
      "cell_type": "code",
      "source": [
        "def rempun(s):\n",
        "  s=str(s)\n",
        "  punc = '''!()-[]{};:'\"\\, <>./?@#$%^&*_~'''\n",
        "  for i in range(len(s)):\n",
        "    if s[i] in punc:\n",
        "      s=s.replace(s[i],\" \")\n",
        "  s=s.lower()\n",
        "  return s\n",
        "d1=rempun(d1)\n",
        "d2=rempun(d2)\n",
        "d3=rempun(d3)\n",
        "print(d1,\"\\n\",d2,\"\\n\",d3)"
      ],
      "metadata": {
        "colab": {
          "base_uri": "https://localhost:8080/"
        },
        "id": "LGaHXQm_PSe3",
        "outputId": "bfa2bb6a-00df-41b8-f286-10bd21c2b953"
      },
      "execution_count": 2,
      "outputs": [
        {
          "output_type": "stream",
          "name": "stdout",
          "text": [
            "paragraphs are medium sized units of writing  longer than sentences  but shorter than sections  chapters  or entire works  \n",
            " because they connect the small ideas of individual sentences to a bigger idea  paragraph structure is essential to any writing bigger for organization  flow  and comprehension  \n",
            " before we dive into paragraph structure  lets start with paragraph meaning  a paragraph is an individual segment of writing that discusses a central idea  typically with more than one sentence \n"
          ]
        }
      ]
    },
    {
      "cell_type": "code",
      "source": [
        "from nltk.tokenize import word_tokenize\n",
        "import nltk\n",
        "from nltk.corpus import stopwords\n",
        "nltk.download('stopwords')\n",
        "nltk.download('punkt')"
      ],
      "metadata": {
        "colab": {
          "base_uri": "https://localhost:8080/"
        },
        "id": "WzQ0M798PXk3",
        "outputId": "814e640c-ba1f-44e5-d2ea-97d29fdc4541"
      },
      "execution_count": 3,
      "outputs": [
        {
          "output_type": "stream",
          "name": "stderr",
          "text": [
            "[nltk_data] Downloading package stopwords to /root/nltk_data...\n",
            "[nltk_data]   Unzipping corpora/stopwords.zip.\n",
            "[nltk_data] Downloading package punkt to /root/nltk_data...\n",
            "[nltk_data]   Unzipping tokenizers/punkt.zip.\n"
          ]
        },
        {
          "output_type": "execute_result",
          "data": {
            "text/plain": [
              "True"
            ]
          },
          "metadata": {},
          "execution_count": 3
        }
      ]
    },
    {
      "cell_type": "code",
      "source": [
        "def tokenize(a):\n",
        "  token=[]\n",
        "  token.append(word_tokenize(a))\n",
        "  res=[]\n",
        "  for i in token:\n",
        "    for word in i:\n",
        "       if not word in stopwords.words('english') and not word in res:\n",
        "          res.append(word)\n",
        "  res.sort()\n",
        "  return res\n",
        "token=tokenize(d1)+tokenize(d2)+tokenize(d3)\n",
        "print(token)"
      ],
      "metadata": {
        "colab": {
          "base_uri": "https://localhost:8080/"
        },
        "id": "YMI1wFruPczI",
        "outputId": "5722777f-e88a-409d-a6a2-db0050e74277"
      },
      "execution_count": 4,
      "outputs": [
        {
          "output_type": "stream",
          "name": "stdout",
          "text": [
            "['chapters', 'entire', 'longer', 'medium', 'paragraphs', 'sections', 'sentences', 'shorter', 'sized', 'units', 'works', 'writing', 'bigger', 'comprehension', 'connect', 'essential', 'flow', 'idea', 'ideas', 'individual', 'organization', 'paragraph', 'sentences', 'small', 'structure', 'writing', 'central', 'discusses', 'dive', 'idea', 'individual', 'lets', 'meaning', 'one', 'paragraph', 'segment', 'sentence', 'start', 'structure', 'typically', 'writing']\n"
          ]
        }
      ]
    },
    {
      "cell_type": "code",
      "source": [
        "def npos(s,a,b,c):\n",
        "  nonpos={}\n",
        "  for i in s:\n",
        "     l=[]\n",
        "     if i in a:\n",
        "       l.append(1)\n",
        "     if i in b:\n",
        "       l.append(2)\n",
        "     if i in c:\n",
        "       l.append(3)\n",
        "     nonpos[i]=l\n",
        "  return nonpos\n",
        "nonpos=npos(token,d1,d2,d3)\n",
        "print(nonpos)\n",
        "d=[d1,d2,d3]\n",
        "sizeofdocs=len(d)"
      ],
      "metadata": {
        "colab": {
          "base_uri": "https://localhost:8080/"
        },
        "id": "pcryPxlLPqCX",
        "outputId": "ca505dcf-d1d3-4eff-e887-c0903020ca1b"
      },
      "execution_count": 30,
      "outputs": [
        {
          "output_type": "stream",
          "name": "stdout",
          "text": [
            "{'chapters': [1], 'entire': [1], 'longer': [1], 'medium': [1], 'paragraphs': [1], 'sections': [1], 'sentences': [1, 2], 'shorter': [1], 'sized': [1], 'units': [1], 'works': [1], 'writing': [1, 2, 3], 'bigger': [2], 'comprehension': [2], 'connect': [2], 'essential': [2], 'flow': [2], 'idea': [2, 3], 'ideas': [2], 'individual': [2, 3], 'organization': [2], 'paragraph': [1, 2, 3], 'small': [2], 'structure': [2, 3], 'central': [3], 'discusses': [3], 'dive': [3], 'lets': [3], 'meaning': [3], 'one': [3], 'segment': [3], 'sentence': [1, 2, 3], 'start': [3], 'typically': [3]}\n"
          ]
        }
      ]
    },
    {
      "cell_type": "code",
      "source": [
        "newd=[]\n",
        "newnonpos={}\n",
        "n=int(input(\"enter no.of documents u want to insert must be less than 4\"))\n",
        "def dictionarycons(tempdict,d,docid):\n",
        "  d=rempun(d)\n",
        "  tokens=tokenize(d)\n",
        "  for i in tokens:\n",
        "    if not i in tempdict.keys():\n",
        "      tempdict[i]=[]\n",
        "      tempdict[i].append(docid)\n",
        "    else:\n",
        "      tempdict[i].append(docid)\n",
        "  return tempdict\n",
        "for i in range(n):\n",
        "  newdoc=input(\"enter new document\")\n",
        "  newnonpos=dictionarycons(newnonpos,newdoc,sizeofdocs+i+1)\n",
        "  d.append(newdoc)\n",
        "print(newnonpos)\n",
        "def app(d,newd):\n",
        "  for key,value in newd.items():\n",
        "    if key in d.keys():\n",
        "      print(key)\n",
        "      d[key]=d[key]+newd[key]\n",
        "    else:\n",
        "      d[key]=value\n",
        "  l=list(d.items())\n",
        "  l=sorted(l)\n",
        "  l=dict(l)\n",
        "  return l\n",
        "newdocs=app(nonpos,newnonpos)\n",
        "print(newdocs)"
      ],
      "metadata": {
        "colab": {
          "base_uri": "https://localhost:8080/"
        },
        "id": "N-GtwTj2PyDu",
        "outputId": "31136686-c830-47c5-ac6f-6a11bb126b50"
      },
      "execution_count": 31,
      "outputs": [
        {
          "output_type": "stream",
          "name": "stdout",
          "text": [
            "enter no.of documents u want to insert must be less than 42\n",
            "enter new documentThe Harvard Business Review coined the term information technology to make a distinction between purpose-built machines designed to perform a limited scope of functions, and general-purpose computing machines that could be programmed for various tasks paragraph\n",
            "enter new documentvarious tasks\n",
            "{'built': [4], 'business': [4], 'coined': [4], 'computing': [4], 'could': [4], 'designed': [4], 'distinction': [4], 'functions': [4], 'general': [4], 'harvard': [4], 'information': [4], 'limited': [4], 'machines': [4], 'make': [4], 'paragraph': [4], 'perform': [4], 'programmed': [4], 'purpose': [4], 'review': [4], 'scope': [4], 'tasks': [4, 5], 'technology': [4], 'term': [4], 'various': [4, 5]}\n",
            "paragraph\n",
            "{'bigger': [2], 'built': [4], 'business': [4], 'central': [3], 'chapters': [1], 'coined': [4], 'comprehension': [2], 'computing': [4], 'connect': [2], 'could': [4], 'designed': [4], 'discusses': [3], 'distinction': [4], 'dive': [3], 'entire': [1], 'essential': [2], 'flow': [2], 'functions': [4], 'general': [4], 'harvard': [4], 'idea': [2, 3], 'ideas': [2], 'individual': [2, 3], 'information': [4], 'lets': [3], 'limited': [4], 'longer': [1], 'machines': [4], 'make': [4], 'meaning': [3], 'medium': [1], 'one': [3], 'organization': [2], 'paragraph': [1, 2, 3, 4], 'paragraphs': [1], 'perform': [4], 'programmed': [4], 'purpose': [4], 'review': [4], 'scope': [4], 'sections': [1], 'segment': [3], 'sentence': [1, 2, 3], 'sentences': [1, 2], 'shorter': [1], 'sized': [1], 'small': [2], 'start': [3], 'structure': [2, 3], 'tasks': [4, 5], 'technology': [4], 'term': [4], 'typically': [3], 'units': [1], 'various': [4, 5], 'works': [1], 'writing': [1, 2, 3]}\n"
          ]
        }
      ]
    },
    {
      "cell_type": "code",
      "source": [],
      "metadata": {
        "id": "X2iXKT-xg_xB"
      },
      "execution_count": null,
      "outputs": []
    }
  ]
}