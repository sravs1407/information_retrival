{
  "nbformat": 4,
  "nbformat_minor": 0,
  "metadata": {
    "colab": {
      "provenance": [],
      "authorship_tag": "ABX9TyPDW66qFx+o8UWsJrTjR6eZ",
      "include_colab_link": true
    },
    "kernelspec": {
      "name": "python3",
      "display_name": "Python 3"
    },
    "language_info": {
      "name": "python"
    }
  },
  "cells": [
    {
      "cell_type": "markdown",
      "metadata": {
        "id": "view-in-github",
        "colab_type": "text"
      },
      "source": [
        "<a href=\"https://colab.research.google.com/github/sravs1407/information_retrival/blob/main/edit_distance.ipynb\" target=\"_parent\"><img src=\"https://colab.research.google.com/assets/colab-badge.svg\" alt=\"Open In Colab\"/></a>"
      ]
    },
    {
      "cell_type": "code",
      "execution_count": 7,
      "metadata": {
        "colab": {
          "base_uri": "https://localhost:8080/"
        },
        "id": "3J-zFGwh0O5W",
        "outputId": "975b50d7-7bd7-49e6-86da-5dcba7f87b31"
      },
      "outputs": [
        {
          "output_type": "stream",
          "name": "stdout",
          "text": [
            "enter first string:cat\n",
            "enter second string:dog\n",
            "3\n"
          ]
        }
      ],
      "source": [
        "s1=input(\"enter first string:\")\n",
        "s2=input(\"enter second string:\")\n",
        "def editdistance(s1,s2):\n",
        "  n1=len(s1)\n",
        "  n2=len(s2)\n",
        "  l=[]\n",
        "  if n1==0 and n2==0:\n",
        "    return 0\n",
        "  if n1==0:\n",
        "    return n2\n",
        "  if n2==0:\n",
        "    return n1\n",
        "  for i in range(n2+1):\n",
        "    p=[]\n",
        "    if i==0:\n",
        "      for i in range(n1+1):\n",
        "        p.append(i)\n",
        "    else:\n",
        "      for j in range(n1+1):\n",
        "        if j==0:\n",
        "          p.append(i)\n",
        "        else:\n",
        "          p.append(0)\n",
        "    l.append(p)\n",
        "  for i in range(1,n2+1):\n",
        "    for j in range(1,n1+1):\n",
        "      if(s1[j-1]==s2[i-1]):\n",
        "        l[i][j]=l[i-1][j-1]\n",
        "      else:\n",
        "        l[i][j]=min(l[i-1][j],l[i][j-1],l[i-1][j-1])+1\n",
        "  return l[n2][n1]\n",
        "print(editdistance(s1,s2))\n"
      ]
    },
    {
      "cell_type": "code",
      "source": [],
      "metadata": {
        "id": "WkRNqQz42z6g"
      },
      "execution_count": null,
      "outputs": []
    }
  ]
}