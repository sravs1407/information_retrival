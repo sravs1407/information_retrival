{
  "cells": [
    {
      "cell_type": "markdown",
      "metadata": {
        "id": "view-in-github",
        "colab_type": "text"
      },
      "source": [
        "<a href=\"https://colab.research.google.com/github/sravs1407/information_retrival/blob/main/ir3.ipynb\" target=\"_parent\"><img src=\"https://colab.research.google.com/assets/colab-badge.svg\" alt=\"Open In Colab\"/></a>"
      ]
    },
    {
      "cell_type": "code",
      "execution_count": 1,
      "metadata": {
        "colab": {
          "base_uri": "https://localhost:8080/"
        },
        "id": "EJlOnnKw3Maq",
        "outputId": "5099f5bd-1927-4e04-8300-03e9f1c63432"
      },
      "outputs": [
        {
          "output_type": "stream",
          "name": "stdout",
          "text": [
            "1 1 1\n"
          ]
        }
      ],
      "source": [
        "d1=\"Paragraphs are medium-sized units of writing, longer than sentences, but shorter than sections, chapters, or entire works.\"\n",
        "d2=\"Because they connect the small ideas of individual sentences to a bigger idea, paragraph structure is essential to any writing bigger for organization, flow, and comprehension.\"\n",
        "d3=\"Before we dive into paragraph structure, lets start with paragraph meaning. A paragraph is an individual segment of writing that discusses a central idea, typically with more than one sentence.\"\n",
        "#counting number of lines\n",
        "def count(s):\n",
        "  line=1\n",
        "  for i in s:\n",
        "    if i=='\\n':\n",
        "      line+=1\n",
        "  return line\n",
        "c1=count(d1)\n",
        "c2=count(d2)\n",
        "c3=count(d3)\n",
        "print(c1,c2,c3)"
      ]
    },
    {
      "cell_type": "code",
      "execution_count": 2,
      "metadata": {
        "colab": {
          "base_uri": "https://localhost:8080/"
        },
        "id": "RCNfwqAr3apI",
        "outputId": "0483b544-e301-498d-8506-7fa96ca17b35"
      },
      "outputs": [
        {
          "output_type": "stream",
          "name": "stdout",
          "text": [
            "paragraphs are medium sized units of writing  longer than sentences  but shorter than sections  chapters  or entire works  \n",
            " because they connect the small ideas of individual sentences to a bigger idea  paragraph structure is essential to any writing bigger for organization  flow  and comprehension  \n",
            " before we dive into paragraph structure  lets start with paragraph meaning  a paragraph is an individual segment of writing that discusses a central idea  typically with more than one sentence \n"
          ]
        }
      ],
      "source": [
        "def rempun(s):\n",
        "  s=str(s)\n",
        "  punc = '''!()-[]{};:'\"\\, <>./?@#$%^&*_~'''\n",
        "  for i in range(len(s)):\n",
        "    if s[i] in punc:\n",
        "      s=s.replace(s[i],\" \")\n",
        "  s=s.lower()\n",
        "  return s\n",
        "d1=rempun(d1)\n",
        "d2=rempun(d2)\n",
        "d3=rempun(d3)\n",
        "print(d1,\"\\n\",d2,\"\\n\",d3)"
      ]
    },
    {
      "cell_type": "code",
      "source": [
        "from nltk.tokenize import word_tokenize\n",
        "import nltk\n",
        "from nltk.corpus import stopwords\n",
        "nltk.download('stopwords')\n",
        "nltk.download('punkt')"
      ],
      "metadata": {
        "colab": {
          "base_uri": "https://localhost:8080/"
        },
        "id": "jHhX8ZCg7ktB",
        "outputId": "847cb033-2157-4177-a0d0-512fafdc7a61"
      },
      "execution_count": 3,
      "outputs": [
        {
          "output_type": "stream",
          "name": "stderr",
          "text": [
            "[nltk_data] Downloading package stopwords to /root/nltk_data...\n",
            "[nltk_data]   Unzipping corpora/stopwords.zip.\n",
            "[nltk_data] Downloading package punkt to /root/nltk_data...\n",
            "[nltk_data]   Unzipping tokenizers/punkt.zip.\n"
          ]
        },
        {
          "output_type": "execute_result",
          "data": {
            "text/plain": [
              "True"
            ]
          },
          "metadata": {},
          "execution_count": 3
        }
      ]
    },
    {
      "cell_type": "code",
      "source": [
        "def tokenize(a,b,c):\n",
        "  token=[]\n",
        "  token.append(word_tokenize(a))\n",
        "  token.append(word_tokenize(b))\n",
        "  token.append(word_tokenize(c))\n",
        "  res=[]\n",
        "  for i in token:\n",
        "    for word in i:\n",
        "       if not word in stopwords.words('english') and not word in res:\n",
        "          res.append(word)\n",
        "  res.sort()\n",
        "  return res\n",
        "token=tokenize(d1,d2,d3)\n",
        "print(token)"
      ],
      "metadata": {
        "colab": {
          "base_uri": "https://localhost:8080/"
        },
        "id": "z86WOchF7rtA",
        "outputId": "32235634-2704-43bd-c8b7-932ec401e466"
      },
      "execution_count": 4,
      "outputs": [
        {
          "output_type": "stream",
          "name": "stdout",
          "text": [
            "['bigger', 'central', 'chapters', 'comprehension', 'connect', 'discusses', 'dive', 'entire', 'essential', 'flow', 'idea', 'ideas', 'individual', 'lets', 'longer', 'meaning', 'medium', 'one', 'organization', 'paragraph', 'paragraphs', 'sections', 'segment', 'sentence', 'sentences', 'shorter', 'sized', 'small', 'start', 'structure', 'typically', 'units', 'works', 'writing']\n"
          ]
        }
      ]
    },
    {
      "cell_type": "code",
      "source": [
        "#non-positional indices\n",
        "def npos(s,a,b,c):\n",
        "  nonpos={}\n",
        "  for i in s:\n",
        "     l=[]\n",
        "     if i in a:\n",
        "       l.append('d1')\n",
        "     if i in b:\n",
        "       l.append('d2')\n",
        "     if i in c:\n",
        "       l.append('d3')\n",
        "     nonpos[i]=l\n",
        "  return nonpos\n",
        "nonpos=npos(token,d1,d2,d3)\n",
        "print(nonpos)"
      ],
      "metadata": {
        "colab": {
          "base_uri": "https://localhost:8080/"
        },
        "id": "imUTyUr55SOr",
        "outputId": "8b8fe1b6-1f49-4829-be31-b33e2a512d72"
      },
      "execution_count": 5,
      "outputs": [
        {
          "output_type": "stream",
          "name": "stdout",
          "text": [
            "{'bigger': ['d2'], 'central': ['d3'], 'chapters': ['d1'], 'comprehension': ['d2'], 'connect': ['d2'], 'discusses': ['d3'], 'dive': ['d3'], 'entire': ['d1'], 'essential': ['d2'], 'flow': ['d2'], 'idea': ['d2', 'd3'], 'ideas': ['d2'], 'individual': ['d2', 'd3'], 'lets': ['d3'], 'longer': ['d1'], 'meaning': ['d3'], 'medium': ['d1'], 'one': ['d3'], 'organization': ['d2'], 'paragraph': ['d1', 'd2', 'd3'], 'paragraphs': ['d1'], 'sections': ['d1'], 'segment': ['d3'], 'sentence': ['d1', 'd2', 'd3'], 'sentences': ['d1', 'd2'], 'shorter': ['d1'], 'sized': ['d1'], 'small': ['d2'], 'start': ['d3'], 'structure': ['d2', 'd3'], 'typically': ['d3'], 'units': ['d1'], 'works': ['d1'], 'writing': ['d1', 'd2', 'd3']}\n"
          ]
        }
      ]
    },
    {
      "cell_type": "code",
      "source": [
        "#positional indices\n",
        "def pos(s,a,b,c):\n",
        "  pos={}\n",
        "  a=a.split()\n",
        "  b=b.split()\n",
        "  c=c.split()\n",
        "  for i in s:\n",
        "    s=[]\n",
        "    p={}\n",
        "    if i in a:\n",
        "      l=[]\n",
        "      for j in range(len(a)):\n",
        "        if a[j]==i:\n",
        "          l.append(j)\n",
        "      p[\"d1\"]=l\n",
        "    if i in b:\n",
        "      l=[]\n",
        "      for j in range(len(b)):\n",
        "        if b[j]==i:\n",
        "          l.append(j)\n",
        "      p[\"d2\"]=l\n",
        "    if i in c:\n",
        "      l=[]\n",
        "      for j in range(len(c)):\n",
        "        if c[j]==i:\n",
        "          l.append(j)\n",
        "      p[\"d3\"]=l\n",
        "    s.append(p)\n",
        "    pos[i]=s\n",
        "  return pos\n",
        "pos=pos(token,d1,d2,d3)\n",
        "print(pos)"
      ],
      "metadata": {
        "colab": {
          "base_uri": "https://localhost:8080/"
        },
        "id": "CJyahM8e7DHs",
        "outputId": "f16bf1e5-de7d-4b6b-8de7-56802e37e97e"
      },
      "execution_count": 6,
      "outputs": [
        {
          "output_type": "stream",
          "name": "stdout",
          "text": [
            "{'bigger': [{'d2': [11, 20]}], 'central': [{'d3': [22]}], 'chapters': [{'d1': [14]}], 'comprehension': [{'d2': [25]}], 'connect': [{'d2': [2]}], 'discusses': [{'d3': [20]}], 'dive': [{'d3': [2]}], 'entire': [{'d1': [16]}], 'essential': [{'d2': [16]}], 'flow': [{'d2': [23]}], 'idea': [{'d2': [12], 'd3': [23]}], 'ideas': [{'d2': [5]}], 'individual': [{'d2': [7], 'd3': [15]}], 'lets': [{'d3': [6]}], 'longer': [{'d1': [7]}], 'meaning': [{'d3': [10]}], 'medium': [{'d1': [2]}], 'one': [{'d3': [28]}], 'organization': [{'d2': [22]}], 'paragraph': [{'d2': [13], 'd3': [4, 9, 12]}], 'paragraphs': [{'d1': [0]}], 'sections': [{'d1': [13]}], 'segment': [{'d3': [16]}], 'sentence': [{'d3': [29]}], 'sentences': [{'d1': [9], 'd2': [8]}], 'shorter': [{'d1': [11]}], 'sized': [{'d1': [3]}], 'small': [{'d2': [4]}], 'start': [{'d3': [7]}], 'structure': [{'d2': [14], 'd3': [5]}], 'typically': [{'d3': [24]}], 'units': [{'d1': [4]}], 'works': [{'d1': [17]}], 'writing': [{'d1': [6], 'd2': [19], 'd3': [18]}]}\n"
          ]
        }
      ]
    }
  ],
  "metadata": {
    "colab": {
      "provenance": [],
      "authorship_tag": "ABX9TyNr17AsYQdqfEZxDVWwJFX0",
      "include_colab_link": true
    },
    "kernelspec": {
      "display_name": "Python 3",
      "name": "python3"
    },
    "language_info": {
      "name": "python"
    }
  },
  "nbformat": 4,
  "nbformat_minor": 0
}