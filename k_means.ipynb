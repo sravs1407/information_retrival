{
  "nbformat": 4,
  "nbformat_minor": 0,
  "metadata": {
    "colab": {
      "provenance": [],
      "authorship_tag": "ABX9TyNF4fX4s8Q7FqMVZ0wv3NJo",
      "include_colab_link": true
    },
    "kernelspec": {
      "name": "python3",
      "display_name": "Python 3"
    },
    "language_info": {
      "name": "python"
    }
  },
  "cells": [
    {
      "cell_type": "markdown",
      "metadata": {
        "id": "view-in-github",
        "colab_type": "text"
      },
      "source": [
        "<a href=\"https://colab.research.google.com/github/sravs1407/information_retrival/blob/main/k_means.ipynb\" target=\"_parent\"><img src=\"https://colab.research.google.com/assets/colab-badge.svg\" alt=\"Open In Colab\"/></a>"
      ]
    },
    {
      "cell_type": "code",
      "execution_count": 2,
      "metadata": {
        "colab": {
          "base_uri": "https://localhost:8080/"
        },
        "id": "K3gbSNEKKQq-",
        "outputId": "f84edcfc-ee35-47e3-f474-4d853fca8fe0"
      },
      "outputs": [
        {
          "output_type": "stream",
          "name": "stdout",
          "text": [
            "enter no of clusters3\n",
            "[5, 49, 20]\n",
            "[[5, 9, 11, 1, 2], [35, 49], [14, 16, 20]]\n"
          ]
        }
      ],
      "source": [
        "import random\n",
        "docs=[5,9,11,14,16,1,2,20,35,49]\n",
        "rand_list=[]\n",
        "k=int(input(\"enter no of clusters\"))\n",
        "for i in range(k):\n",
        "  rand_list.append(random.choice(docs))\n",
        "print(rand_list)\n",
        "def kmeans(d,rand):\n",
        "  dic={}\n",
        "  centroid=rand\n",
        "  c=[]\n",
        "  clusters=[]\n",
        "  while c!=centroid:\n",
        "    c=centroid\n",
        "    l=[]\n",
        "    for j in rand:\n",
        "      l.append([])\n",
        "    for i in d:\n",
        "      dists=[]\n",
        "      for j in rand:\n",
        "        dists.append(abs(i-j))\n",
        "      mini=dists.index(min(dists))\n",
        "      l[mini].append(i)\n",
        "    centroid=[]\n",
        "    for i in l:\n",
        "      sum=0\n",
        "      for j in i:\n",
        "        sum+=j\n",
        "      if(len(i)!=0):\n",
        "        centroid.append(sum/len(i))\n",
        "      else:\n",
        "        centroid.append(0)\n",
        "    clusters=l\n",
        "  return clusters;\n",
        "print(kmeans(docs,rand_list))"
      ]
    }
  ]
}