{
  "nbformat": 4,
  "nbformat_minor": 0,
  "metadata": {
    "colab": {
      "provenance": [],
      "authorship_tag": "ABX9TyPnPh5QSVHM0XGhRKXgDnNG",
      "include_colab_link": true
    },
    "kernelspec": {
      "name": "python3",
      "display_name": "Python 3"
    },
    "language_info": {
      "name": "python"
    }
  },
  "cells": [
    {
      "cell_type": "markdown",
      "metadata": {
        "id": "view-in-github",
        "colab_type": "text"
      },
      "source": [
        "<a href=\"https://colab.research.google.com/github/sravs1407/information_retrival/blob/main/phrase_queries.ipynb\" target=\"_parent\"><img src=\"https://colab.research.google.com/assets/colab-badge.svg\" alt=\"Open In Colab\"/></a>"
      ]
    },
    {
      "cell_type": "code",
      "execution_count": 1,
      "metadata": {
        "colab": {
          "base_uri": "https://localhost:8080/"
        },
        "id": "Wx20wYiH4Q9A",
        "outputId": "5d94ce9b-ea27-46e8-ddc8-bbea68f6bfe9"
      },
      "outputs": [
        {
          "output_type": "stream",
          "name": "stdout",
          "text": [
            "1 1 1\n"
          ]
        }
      ],
      "source": [
        "d1=\"Paragraphs are medium-sized units of writing, longer than sentences, but shorter than sections, chapters, or entire works.\"\n",
        "d2=\"Because they connect the small ideas of individual sentences to a bigger idea, paragraph structure is essential to any writing bigger for organization, flow, and comprehension.\"\n",
        "d3=\"Before we dive into paragraph structure, lets start with paragraph meaning. A paragraph is an individual segment of writing that discusses a central idea, typically with more than one sentence.\"\n",
        "#counting number of lines\n",
        "def count(s):\n",
        "  line=1\n",
        "  for i in s:\n",
        "    if i=='\\n':\n",
        "      line+=1\n",
        "  return line\n",
        "c1=count(d1)\n",
        "c2=count(d2)\n",
        "c3=count(d3)\n",
        "print(c1,c2,c3)"
      ]
    },
    {
      "cell_type": "code",
      "source": [
        "def rempun(s):\n",
        "  s=str(s)\n",
        "  punc = '''!()-[]{};:'\"\\, <>./?@#$%^&*_~'''\n",
        "  for i in range(len(s)):\n",
        "    if s[i] in punc:\n",
        "      s=s.replace(s[i],\" \")\n",
        "  s=s.lower()\n",
        "  return s\n",
        "d1=rempun(d1)\n",
        "d2=rempun(d2)\n",
        "d3=rempun(d3)\n",
        "print(d1,\"\\n\",d2,\"\\n\",d3)"
      ],
      "metadata": {
        "colab": {
          "base_uri": "https://localhost:8080/"
        },
        "id": "mKJ61feE4pBW",
        "outputId": "8d6acaea-780c-475c-c174-088a186c5399"
      },
      "execution_count": 2,
      "outputs": [
        {
          "output_type": "stream",
          "name": "stdout",
          "text": [
            "paragraphs are medium sized units of writing  longer than sentences  but shorter than sections  chapters  or entire works  \n",
            " because they connect the small ideas of individual sentences to a bigger idea  paragraph structure is essential to any writing bigger for organization  flow  and comprehension  \n",
            " before we dive into paragraph structure  lets start with paragraph meaning  a paragraph is an individual segment of writing that discusses a central idea  typically with more than one sentence \n"
          ]
        }
      ]
    },
    {
      "cell_type": "code",
      "source": [
        "#positional indices\n",
        "def pos(a,b,c):\n",
        "  pos={}\n",
        "  a=a.split()\n",
        "  b=b.split()\n",
        "  c=c.split()\n",
        "  d=[a,b,c]\n",
        "  for m in d:\n",
        "    for i in m:\n",
        "      s=[]\n",
        "      p={}\n",
        "      if i in a:\n",
        "        l=[]\n",
        "        for j in range(len(a)):\n",
        "          if a[j]==i:\n",
        "            l.append(j)\n",
        "        p[\"d1\"]=l\n",
        "      if i in b:\n",
        "        l=[]\n",
        "        for j in range(len(b)):\n",
        "          if b[j]==i:\n",
        "            l.append(j)\n",
        "        p[\"d2\"]=l\n",
        "      if i in c:\n",
        "        l=[]\n",
        "        for j in range(len(c)):\n",
        "          if c[j]==i:\n",
        "            l.append(j)\n",
        "        p[\"d3\"]=l\n",
        "      s.append(p)\n",
        "      pos[i]=s\n",
        "  return pos\n",
        "pos=pos(d1,d2,d3)\n",
        "print(pos)"
      ],
      "metadata": {
        "colab": {
          "base_uri": "https://localhost:8080/"
        },
        "id": "NVlWl-k_42ZC",
        "outputId": "e7a5cdce-062a-46b6-85a0-1c31d54a8c7d"
      },
      "execution_count": 3,
      "outputs": [
        {
          "output_type": "stream",
          "name": "stdout",
          "text": [
            "{'paragraphs': [{'d1': [0]}], 'are': [{'d1': [1]}], 'medium': [{'d1': [2]}], 'sized': [{'d1': [3]}], 'units': [{'d1': [4]}], 'of': [{'d1': [5], 'd2': [6], 'd3': [17]}], 'writing': [{'d1': [6], 'd2': [19], 'd3': [18]}], 'longer': [{'d1': [7]}], 'than': [{'d1': [8, 12], 'd3': [27]}], 'sentences': [{'d1': [9], 'd2': [8]}], 'but': [{'d1': [10]}], 'shorter': [{'d1': [11]}], 'sections': [{'d1': [13]}], 'chapters': [{'d1': [14]}], 'or': [{'d1': [15]}], 'entire': [{'d1': [16]}], 'works': [{'d1': [17]}], 'because': [{'d2': [0]}], 'they': [{'d2': [1]}], 'connect': [{'d2': [2]}], 'the': [{'d2': [3]}], 'small': [{'d2': [4]}], 'ideas': [{'d2': [5]}], 'individual': [{'d2': [7], 'd3': [15]}], 'to': [{'d2': [9, 17]}], 'a': [{'d2': [10], 'd3': [11, 21]}], 'bigger': [{'d2': [11, 20]}], 'idea': [{'d2': [12], 'd3': [23]}], 'paragraph': [{'d2': [13], 'd3': [4, 9, 12]}], 'structure': [{'d2': [14], 'd3': [5]}], 'is': [{'d2': [15], 'd3': [13]}], 'essential': [{'d2': [16]}], 'any': [{'d2': [18]}], 'for': [{'d2': [21]}], 'organization': [{'d2': [22]}], 'flow': [{'d2': [23]}], 'and': [{'d2': [24]}], 'comprehension': [{'d2': [25]}], 'before': [{'d3': [0]}], 'we': [{'d3': [1]}], 'dive': [{'d3': [2]}], 'into': [{'d3': [3]}], 'lets': [{'d3': [6]}], 'start': [{'d3': [7]}], 'with': [{'d3': [8, 25]}], 'meaning': [{'d3': [10]}], 'an': [{'d3': [14]}], 'segment': [{'d3': [16]}], 'that': [{'d3': [19]}], 'discusses': [{'d3': [20]}], 'central': [{'d3': [22]}], 'typically': [{'d3': [24]}], 'more': [{'d3': [26]}], 'one': [{'d3': [28]}], 'sentence': [{'d3': [29]}]}\n"
          ]
        }
      ]
    },
    {
      "cell_type": "code",
      "source": [
        "pr=input(\"enter query\")\n",
        "inner=[]\n",
        "postings=[]\n",
        "pr=pr.split()\n",
        "print(pos)\n",
        "for i in range(len(pr)):\n",
        "  postings.append(pos[pr[i]])\n",
        "def posind(p1,p2):\n",
        "  ans=[]\n",
        "  for i in p1:\n",
        "    pd1=list(i.keys())\n",
        "    pp1=list(i.values())\n",
        "  for i in p2:\n",
        "    pd2=list(i.keys())\n",
        "    pp2=list(i.values())\n",
        "  for i in range(len(pd1)):\n",
        "    for j in range(len(pd2)):\n",
        "      if pd1[i]==pd2[j]:\n",
        "        l1=pp1[i]\n",
        "        l2=pp2[j]\n",
        "        for k in range(len(l1)):\n",
        "          for l in range(len(l2)):\n",
        "            if l2[l]-l1[k]==1:\n",
        "              ans.append(pd1[i])\n",
        "  return ans\n",
        "def res(postings):\n",
        "  n=len(postings)\n",
        "  li=[]\n",
        "  res=[]\n",
        "  for i in range(n-1):\n",
        "    li.append(posind(postings[i],postings[i+1]))\n",
        "  print(li)\n",
        "  for i in li[0]:\n",
        "    p=0\n",
        "    for j in range(1,len(li)):\n",
        "      if i in li[j]:\n",
        "        p=p+1\n",
        "      if p==(len(li)-1):\n",
        "        res.append(i)\n",
        "  return res\n",
        "print(res(postings))"
      ],
      "metadata": {
        "colab": {
          "base_uri": "https://localhost:8080/"
        },
        "id": "gan1252s77TU",
        "outputId": "0e849596-a092-4ae4-ca80-d773b923cecc"
      },
      "execution_count": 7,
      "outputs": [
        {
          "output_type": "stream",
          "name": "stdout",
          "text": [
            "enter querythe small ideas of individual\n",
            "{'paragraphs': [{'d1': [0]}], 'are': [{'d1': [1]}], 'medium': [{'d1': [2]}], 'sized': [{'d1': [3]}], 'units': [{'d1': [4]}], 'of': [{'d1': [5], 'd2': [6], 'd3': [17]}], 'writing': [{'d1': [6], 'd2': [19], 'd3': [18]}], 'longer': [{'d1': [7]}], 'than': [{'d1': [8, 12], 'd3': [27]}], 'sentences': [{'d1': [9], 'd2': [8]}], 'but': [{'d1': [10]}], 'shorter': [{'d1': [11]}], 'sections': [{'d1': [13]}], 'chapters': [{'d1': [14]}], 'or': [{'d1': [15]}], 'entire': [{'d1': [16]}], 'works': [{'d1': [17]}], 'because': [{'d2': [0]}], 'they': [{'d2': [1]}], 'connect': [{'d2': [2]}], 'the': [{'d2': [3]}], 'small': [{'d2': [4]}], 'ideas': [{'d2': [5]}], 'individual': [{'d2': [7], 'd3': [15]}], 'to': [{'d2': [9, 17]}], 'a': [{'d2': [10], 'd3': [11, 21]}], 'bigger': [{'d2': [11, 20]}], 'idea': [{'d2': [12], 'd3': [23]}], 'paragraph': [{'d2': [13], 'd3': [4, 9, 12]}], 'structure': [{'d2': [14], 'd3': [5]}], 'is': [{'d2': [15], 'd3': [13]}], 'essential': [{'d2': [16]}], 'any': [{'d2': [18]}], 'for': [{'d2': [21]}], 'organization': [{'d2': [22]}], 'flow': [{'d2': [23]}], 'and': [{'d2': [24]}], 'comprehension': [{'d2': [25]}], 'before': [{'d3': [0]}], 'we': [{'d3': [1]}], 'dive': [{'d3': [2]}], 'into': [{'d3': [3]}], 'lets': [{'d3': [6]}], 'start': [{'d3': [7]}], 'with': [{'d3': [8, 25]}], 'meaning': [{'d3': [10]}], 'an': [{'d3': [14]}], 'segment': [{'d3': [16]}], 'that': [{'d3': [19]}], 'discusses': [{'d3': [20]}], 'central': [{'d3': [22]}], 'typically': [{'d3': [24]}], 'more': [{'d3': [26]}], 'one': [{'d3': [28]}], 'sentence': [{'d3': [29]}]}\n",
            "[['d2'], ['d2'], ['d2'], ['d2']]\n",
            "['d2']\n"
          ]
        }
      ]
    }
  ]
}