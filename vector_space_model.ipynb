{
  "nbformat": 4,
  "nbformat_minor": 0,
  "metadata": {
    "colab": {
      "provenance": [],
      "authorship_tag": "ABX9TyPvGUwAsRFcUI2GU2t1qhab",
      "include_colab_link": true
    },
    "kernelspec": {
      "name": "python3",
      "display_name": "Python 3"
    },
    "language_info": {
      "name": "python"
    }
  },
  "cells": [
    {
      "cell_type": "markdown",
      "metadata": {
        "id": "view-in-github",
        "colab_type": "text"
      },
      "source": [
        "<a href=\"https://colab.research.google.com/github/sravs1407/information_retrival/blob/main/vector_space_model.ipynb\" target=\"_parent\"><img src=\"https://colab.research.google.com/assets/colab-badge.svg\" alt=\"Open In Colab\"/></a>"
      ]
    },
    {
      "cell_type": "code",
      "execution_count": 1,
      "metadata": {
        "id": "SPJpo0S0caYK"
      },
      "outputs": [],
      "source": [
        "d1=\"Information retrieval is concerned with the organization, storage, retrieval and evaluation of information relevant to user's query.\"\n",
        "d2=\"A user having an information need formulates a request in the form of the query written in natural language.\"\n",
        "d3=\"The retrieval system responds by retrieving document that seems relevant to the query.\""
      ]
    },
    {
      "cell_type": "code",
      "source": [
        "#finding vocabulary\n",
        "def vocabulary(d):\n",
        "  l=[]\n",
        "  for doc in d:\n",
        "    doc=doc.split(\" \")\n",
        "    for i in doc:\n",
        "      if i not in l:\n",
        "        l.append(i)\n",
        "  return l;\n",
        "d=[d1,d2,d3]\n",
        "vocab=vocabulary(d)\n",
        "print(vocab)"
      ],
      "metadata": {
        "colab": {
          "base_uri": "https://localhost:8080/"
        },
        "id": "DXufLj4Mt-g9",
        "outputId": "5f20bb37-8d05-4625-82b0-516e7a0e52f3"
      },
      "execution_count": 3,
      "outputs": [
        {
          "output_type": "stream",
          "name": "stdout",
          "text": [
            "['Information', 'retrieval', 'is', 'concerned', 'with', 'the', 'organization,', 'storage,', 'and', 'evaluation', 'of', 'information', 'relevant', 'to', \"user's\", 'query.', 'A', 'user', 'having', 'an', 'need', 'formulates', 'a', 'request', 'in', 'form', 'query', 'written', 'natural', 'language.', 'The', 'system', 'responds', 'by', 'retrieving', 'document', 'that', 'seems']\n"
          ]
        }
      ]
    },
    {
      "cell_type": "code",
      "source": [
        "#term frequency and document frequency\n",
        "import math\n",
        "def termfreq(term,doc):\n",
        "  doc=doc.split(\" \")\n",
        "  count=0\n",
        "  for i in doc:\n",
        "    if i==term:\n",
        "      count+=1\n",
        "  return count\n",
        "def docfreq(term,d):\n",
        "  c=0\n",
        "  for doc in d:\n",
        "    doc=doc.split(\" \")\n",
        "    if term in doc:\n",
        "      c+=1\n",
        "  return c\n",
        "def frequency(d,vocab):\n",
        "  s=[]\n",
        "  for doc in d:\n",
        "    l=[]\n",
        "    for i in vocab:\n",
        "      tf=termfreq(i,doc)\n",
        "      df=docfreq(i,d)\n",
        "      idf=round(math.log(len(d)/df),4)\n",
        "      tfidf=tf*idf\n",
        "      l.append(tfidf)\n",
        "    s.append(l)\n",
        "  return s;\n",
        "tfidf=frequency(d,vocab)\n",
        "print(tfidf)"
      ],
      "metadata": {
        "colab": {
          "base_uri": "https://localhost:8080/"
        },
        "id": "olYREeZ4vI70",
        "outputId": "88e22351-ad18-4f5d-b58f-72ccfa7e9566"
      },
      "execution_count": 8,
      "outputs": [
        {
          "output_type": "stream",
          "name": "stdout",
          "text": [
            "[[1.0986, 0.811, 1.0986, 1.0986, 1.0986, 0.0, 1.0986, 1.0986, 1.0986, 1.0986, 0.4055, 0.4055, 0.4055, 0.4055, 1.0986, 0.4055, 0.0, 0.0, 0.0, 0.0, 0.0, 0.0, 0.0, 0.0, 0.0, 0.0, 0.0, 0.0, 0.0, 0.0, 0.0, 0.0, 0.0, 0.0, 0.0, 0.0, 0.0, 0.0], [0.0, 0.0, 0.0, 0.0, 0.0, 0.0, 0.0, 0.0, 0.0, 0.0, 0.4055, 0.4055, 0.0, 0.0, 0.0, 0.0, 1.0986, 1.0986, 1.0986, 1.0986, 1.0986, 1.0986, 1.0986, 1.0986, 2.1972, 1.0986, 1.0986, 1.0986, 1.0986, 1.0986, 0.0, 0.0, 0.0, 0.0, 0.0, 0.0, 0.0, 0.0], [0.0, 0.4055, 0.0, 0.0, 0.0, 0.0, 0.0, 0.0, 0.0, 0.0, 0.0, 0.0, 0.4055, 0.4055, 0.0, 0.4055, 0.0, 0.0, 0.0, 0.0, 0.0, 0.0, 0.0, 0.0, 0.0, 0.0, 0.0, 0.0, 0.0, 0.0, 1.0986, 1.0986, 1.0986, 1.0986, 1.0986, 1.0986, 1.0986, 1.0986]]\n"
          ]
        }
      ]
    },
    {
      "cell_type": "code",
      "source": [
        "query=input(\"enter query\")\n",
        "def queryfreq(q,vocab):\n",
        "  q=q.split(\" \")\n",
        "  l=[]\n",
        "  for i in vocab:\n",
        "    if i in q:\n",
        "      l.append(1)\n",
        "    else:\n",
        "      l.append(0)\n",
        "  return l;\n",
        "def cosinesim(tfidf,qfreq):\n",
        "  l=[]\n",
        "  for i in tfidf:\n",
        "    mul=0\n",
        "    mt=0\n",
        "    mq=0\n",
        "    for j in range(len(i)):\n",
        "      mul+=i[j]*qfreq[j]\n",
        "      mt+=i[j]**2\n",
        "      mq+=qfreq[j]**2\n",
        "    den=math.sqrt(mt)*math.sqrt(mq)\n",
        "    if den!=0:\n",
        "      l.append(mul/(math.sqrt(mt)*math.sqrt(mq)))\n",
        "    else:\n",
        "      l.append(0)\n",
        "  return l;\n",
        "qfreq=queryfreq(query,vocab)\n",
        "cosim=cosinesim(tfidf,qfreq)\n",
        "print(cosim)\n",
        "d=cosim.index(max(cosim))+1\n",
        "print(d,\" document is more relevant to the query\")"
      ],
      "metadata": {
        "colab": {
          "base_uri": "https://localhost:8080/"
        },
        "id": "KwmGvyTzzVJ6",
        "outputId": "0baf2861-c4fd-4504-fbc7-acdbfe677481"
      },
      "execution_count": 18,
      "outputs": [
        {
          "output_type": "stream",
          "name": "stdout",
          "text": [
            "enter queryA user having an information\n",
            "[0.05161906055293292, 0.4701433093503086, 0.0]\n",
            "2  document is more relevant to the query\n"
          ]
        }
      ]
    }
  ]
}